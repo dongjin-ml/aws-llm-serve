{
 "cells": [
  {
   "cell_type": "markdown",
   "id": "82eaffef-dbfb-4759-be39-842dbaa6c8ba",
   "metadata": {},
   "source": [
    "# Model serving uisng triton\n",
    "* Container: conda_pytorch_p310"
   ]
  },
  {
   "cell_type": "markdown",
   "id": "1b74d33d-cac8-49d8-beb4-2da506865d5d",
   "metadata": {},
   "source": [
    "## AutoReload"
   ]
  },
  {
   "cell_type": "code",
   "execution_count": null,
   "id": "ae05811e-f241-4898-835d-10a4297183e6",
   "metadata": {
    "tags": []
   },
   "outputs": [],
   "source": [
    "%load_ext autoreload\n",
    "%autoreload 2"
   ]
  },
  {
   "cell_type": "markdown",
   "id": "0fe6f84d-986c-48a0-b02f-60d75e0b163f",
   "metadata": {
    "tags": []
   },
   "source": [
    "## 0.Parameters"
   ]
  },
  {
   "cell_type": "code",
   "execution_count": null,
   "id": "3a5d1ae8-0f55-4018-b671-11cb6daaae75",
   "metadata": {
    "tags": []
   },
   "outputs": [],
   "source": [
    "import time\n",
    "import boto3\n",
    "import sagemaker"
   ]
  },
  {
   "cell_type": "markdown",
   "id": "17bc12b0-bf25-488c-8331-212a2cad1156",
   "metadata": {},
   "source": [
    "### 0.1. Sagemaker "
   ]
  },
  {
   "cell_type": "code",
   "execution_count": null,
   "id": "2d6d13d8-55ad-4f8f-80de-2b2f4511cc3a",
   "metadata": {
    "tags": []
   },
   "outputs": [],
   "source": [
    "# Set to True to enable SageMaker to run locally\n",
    "local_mode = False\n",
    "\n",
    "if local_mode:\n",
    "    \n",
    "    from sagemaker.local import LocalSession\n",
    "    \n",
    "    strInstanceType = \"local_gpu\"\n",
    "    sagemaker_session = LocalSession()\n",
    "    sagemaker_session.config = {'local': {'local_code': True}}\n",
    "        \n",
    "    #dicDataChannels = {\n",
    "    #    \"training\": f'file://{os.path.join(strLocalDataPath, \"train.csv\")}',\n",
    "    #    \"testing\": f'file://{os.path.join(strLocalDataPath, \"test.csv\")}',\n",
    "    #}\n",
    "    \n",
    "else:\n",
    "    strInstanceType = \"ml.m5.2xlarge\" #\"ml.p3.2xlarge\"#\"ml.g4dn.8xlarge\"#\"ml.p3.2xlarge\", 'ml.p3.16xlarge' , ml.g4dn.8xlarge\n",
    "    \n",
    "    sagemaker_session = sagemaker.Session()\n",
    "    #dicDataChannels = {\n",
    "    #    \"training\": os.path.join(strS3DataPath, \"train.csv\"), \n",
    "    #    \"testing\": os.path.join(strS3DataPath, \"test.csv\"), \n",
    "    #}\n",
    "\n",
    "nInstanceCount = 1\n",
    "\n",
    "strPrefix = \"triton-ncf\"\n",
    "strModelName = \"ncf_food_model\"\n",
    "strTrainedModelDir = \"./model\"\n",
    "strModelServingFolder = \"triton-docker-serve-pt\"\n",
    "\n",
    "strRegion = boto3.Session().region_name\n",
    "strBucketName = sagemaker_session.default_bucket()\n",
    "strExecutionRole = sagemaker.get_execution_role()"
   ]
  },
  {
   "cell_type": "markdown",
   "id": "fd59e348-c97f-4ae6-9311-9e0753f3d609",
   "metadata": {
    "tags": []
   },
   "source": [
    "### 0.2. Triton Docker Image"
   ]
  },
  {
   "cell_type": "code",
   "execution_count": null,
   "id": "59ea0fd9-a58c-49a9-a5f2-4693b55fe810",
   "metadata": {
    "tags": []
   },
   "outputs": [],
   "source": [
    "from src.triton_util import account_id_map"
   ]
  },
  {
   "cell_type": "markdown",
   "id": "2913b7cd-d448-4e71-8535-135c35427513",
   "metadata": {
    "tags": []
   },
   "source": [
    "* Deep learning contatiners\n",
    "    - https://github.com/aws/deep-learning-containers/blob/master/available_images.md"
   ]
  },
  {
   "cell_type": "code",
   "execution_count": null,
   "id": "e5274f68-9bed-4308-a2a7-a6d4b18385e2",
   "metadata": {
    "tags": []
   },
   "outputs": [],
   "source": [
    "base = \"amazonaws.com.cn\" if strRegion.startswith(\"cn-\") else \"amazonaws.com\"\n",
    "strTritonImageUri = (\n",
    "    \"{account_id}.dkr.ecr.{region}.{base}/sagemaker-tritonserver:23.03-py3\".format(\n",
    "        account_id=account_id_map[strRegion], region=strRegion, base=base\n",
    "    )\n",
    ")\n",
    "# 23.01, 23.02, 23.03, 22.07 mme_triton_image_uri\n"
   ]
  },
  {
   "cell_type": "code",
   "execution_count": null,
   "id": "f7f72e19-bb1d-43e1-93ab-f8241a2d75c7",
   "metadata": {
    "tags": []
   },
   "outputs": [],
   "source": [
    "print(f'strtTritonImageUri: {strTritonImageUri}')"
   ]
  },
  {
   "cell_type": "code",
   "execution_count": null,
   "id": "262f59de-6e53-4e2e-8fcc-4380d12df9d7",
   "metadata": {
    "tags": []
   },
   "outputs": [],
   "source": [
    "print(f'strRegion: {strRegion}')\n",
    "print(f'sagemaker_session: {sagemaker_session}')\n",
    "print(f'strInstanceType: {strInstanceType}')"
   ]
  },
  {
   "cell_type": "markdown",
   "id": "c199dfb5-3092-43c2-9bb0-f7a949576dbd",
   "metadata": {},
   "source": [
    "## 1. 모델 패키징 (model.tar.gz) 및 S3 업로딩"
   ]
  },
  {
   "cell_type": "markdown",
   "id": "8bee4489-b811-49b1-b2c5-c4cdf632cd04",
   "metadata": {},
   "source": [
    "### 1.1 model loading "
   ]
  },
  {
   "cell_type": "code",
   "execution_count": null,
   "id": "f1ccd8b8-cdb2-49ce-91d4-b01cd0eab106",
   "metadata": {
    "tags": []
   },
   "outputs": [],
   "source": [
    "from src.inference import model_fn"
   ]
  },
  {
   "cell_type": "markdown",
   "id": "de5780ea-efa6-4958-9e13-ce39817b397a",
   "metadata": {
    "tags": []
   },
   "source": [
    "* 만약 prediction에 customization이 필요하다면, \"./src/model.py\"의 class NCF(nn.Module)의 forward 펑션 수정할 것 "
   ]
  },
  {
   "cell_type": "code",
   "execution_count": null,
   "id": "8f33a9a7-a8b6-41ea-95fa-f53bc918a55c",
   "metadata": {
    "tags": []
   },
   "outputs": [],
   "source": [
    "ncf_food_model = model_fn(strTrainedModelDir)"
   ]
  },
  {
   "cell_type": "code",
   "execution_count": null,
   "id": "10b295ba-6352-4438-b51f-f2527f01bf60",
   "metadata": {
    "tags": []
   },
   "outputs": [],
   "source": [
    "ncf_food_model"
   ]
  },
  {
   "cell_type": "markdown",
   "id": "6ffa8c13-df50-4c15-803b-6eede698dc6b",
   "metadata": {
    "tags": []
   },
   "source": [
    "### 1.2. Conversion to torchscript "
   ]
  },
  {
   "cell_type": "code",
   "execution_count": null,
   "id": "c52b0850-0851-4268-b638-77e987f59d59",
   "metadata": {
    "tags": []
   },
   "outputs": [],
   "source": [
    "import torch\n",
    "import numpy as np"
   ]
  },
  {
   "cell_type": "code",
   "execution_count": null,
   "id": "c32015bb-8fee-434f-8829-0f50e13bb4f8",
   "metadata": {
    "tags": []
   },
   "outputs": [],
   "source": [
    "def trace_model(mode, device, model, dummy_inputs, trace_model_name):\n",
    "\n",
    "    model = model.eval()\n",
    "    model.to(device)\n",
    "\n",
    "    if mode == 'trace' : IR_model = torch.jit.trace(model, dummy_inputs)\n",
    "    elif mode == 'script': IR_model = torch.jit.script(model)\n",
    "\n",
    "    print(f\"As {mode} : Model is saved {trace_model_name}\")\n",
    "    torch.jit.save(IR_model, trace_model_name)\n",
    "\n",
    "    print(\"#### Load Test ####\")    \n",
    "    loaded_m = torch.jit.load(trace_model_name)    \n",
    "    print(loaded_m.code)    \n",
    "    dummy_user = dummy_inputs[0]\n",
    "    dummy_item = dummy_inputs[1]    \n",
    "    \n",
    "    result = loaded_m(dummy_user, dummy_item)\n",
    "    print(\"Result shape: \", result.shape) "
   ]
  },
  {
   "cell_type": "code",
   "execution_count": null,
   "id": "da1c457c-c35e-4528-9c0f-c1fe55d41952",
   "metadata": {
    "tags": []
   },
   "outputs": [],
   "source": [
    "is_trace, is_script = True, False\n",
    "\n",
    "if is_trace: mode = 'trace'    \n",
    "elif is_script: mode = 'script'\n",
    "\n",
    "device = \"cuda\" if torch.cuda.is_available() else \"cpu\"\n",
    "print(\"Using {} device\".format(device))\n",
    "\n",
    "user_np = np.zeros((1,100)).astype(np.int32)\n",
    "item_np = np.random.randint(low=1, high=1000, size=(1,100)).astype(np.int32)\n",
    "\n",
    "dummy_inputs = [\n",
    "    torch.from_numpy(user_np).to(device),\n",
    "    torch.from_numpy(item_np).to(device)\n",
    "]"
   ]
  },
  {
   "cell_type": "code",
   "execution_count": null,
   "id": "71bca39b-ebbc-4748-9bf9-a8adfbef5621",
   "metadata": {
    "tags": []
   },
   "outputs": [],
   "source": [
    "strTraceFoodModelName = 'ncf_food_model.pt'\n",
    "trace_model(mode, device, ncf_food_model, dummy_inputs, strTraceFoodModelName) "
   ]
  },
  {
   "cell_type": "markdown",
   "id": "96654cfd-fe61-4ca8-8209-d03eda0f0b41",
   "metadata": {},
   "source": [
    "### 1.3.Create config.pbtxt"
   ]
  },
  {
   "cell_type": "code",
   "execution_count": null,
   "id": "39d30ac8-60bc-400f-8426-a9b120057683",
   "metadata": {
    "tags": []
   },
   "outputs": [],
   "source": [
    "%%writefile ncf_food_config.pbtxt\n",
    "\n",
    "name: \"ncf_food_model\"\n",
    "platform: \"pytorch_libtorch\"\n",
    "max_batch_size: 128\n",
    "input [\n",
    "  {\n",
    "    name: \"INPUT__0\"\n",
    "    data_type: TYPE_INT32\n",
    "    dims: [100]\n",
    "  },\n",
    "  {\n",
    "    name: \"INPUT__1\"\n",
    "    data_type: TYPE_INT32\n",
    "    dims: [100]\n",
    "  }\n",
    "]\n",
    "output [\n",
    "  {\n",
    "    name: \"OUTPUT__0\"\n",
    "    data_type: TYPE_FP32\n",
    "    dims: [-1]\n",
    "  }\n",
    "]"
   ]
  },
  {
   "cell_type": "markdown",
   "id": "cb81b5b5-771c-44c0-b2fe-bec2a8ff5e3f",
   "metadata": {},
   "source": [
    "### 1.4 Artifact packaging\n",
    "- 아래와 닽은 폴더 구조를 생성해야 함.\n",
    "```\n",
    "model_serving_folder\n",
    "    - model_name\n",
    "        - version_number\n",
    "            - model file\n",
    "        - config file\n",
    "        \n",
    "# Example: \n",
    "\n",
    "triton-serve-pt\n",
    "    - ncf_food\n",
    "        - 1\n",
    "            - model.pt\n",
    "        - config.pbtxt\n",
    "\n",
    "```"
   ]
  },
  {
   "cell_type": "code",
   "execution_count": null,
   "id": "60c6aa53-2566-47cc-aa59-1820569860bd",
   "metadata": {
    "tags": []
   },
   "outputs": [],
   "source": [
    "import os\n",
    "from src.triton_util import copy_artifact"
   ]
  },
  {
   "cell_type": "code",
   "execution_count": null,
   "id": "157ad7cd-a066-429c-b3dd-dbb88735ed23",
   "metadata": {
    "tags": []
   },
   "outputs": [],
   "source": [
    "# ncf_food_model 폴더 생성\n",
    "food_config = 'ncf_food_config.pbtxt'\n",
    "copy_artifact(strModelServingFolder, strModelName, strTraceFoodModelName, food_config)"
   ]
  },
  {
   "cell_type": "markdown",
   "id": "115f5c76-77c4-41ce-8a72-2140f3a4af37",
   "metadata": {},
   "source": [
    "### 1.5 Upload model packages"
   ]
  },
  {
   "cell_type": "code",
   "execution_count": null,
   "id": "2f252e63-7e8a-46d8-9721-a80c31af3b58",
   "metadata": {
    "tags": []
   },
   "outputs": [],
   "source": [
    "import os\n",
    "from src.triton_util import tar_artifact, upload_tar_s3"
   ]
  },
  {
   "cell_type": "code",
   "execution_count": null,
   "id": "51ab0f6b-bdae-49bf-88f1-dbe2c536aa73",
   "metadata": {
    "tags": []
   },
   "outputs": [],
   "source": [
    "strModelTarFile = tar_artifact(strModelServingFolder, strModelName)    \n",
    "print(\"strModelTarFile: \", strModelTarFile)\n",
    "strModelUriPt = upload_tar_s3(sagemaker_session, strModelTarFile, strPrefix)\n",
    "print(\"strModelUriPt: \", strModelUriPt)"
   ]
  },
  {
   "cell_type": "markdown",
   "id": "c43099ab-f67d-4131-b37a-c1b991019a04",
   "metadata": {
    "tags": []
   },
   "source": [
    "### 1.6 Remove files"
   ]
  },
  {
   "cell_type": "code",
   "execution_count": null,
   "id": "50bc0aa7-448b-4927-a0d5-0c3deaaa167b",
   "metadata": {
    "tags": []
   },
   "outputs": [],
   "source": [
    "listFilePath = [\n",
    "    strTraceFoodModelName,\n",
    "    f'{strModelName}.model.tar.gz',\n",
    "    food_config\n",
    "]\n",
    "for strFilePath in listFilePath:\n",
    "    if os.path.exists(strFilePath):\n",
    "        os.remove(strFilePath)\n",
    "    else:\n",
    "        print(\"Can not delete the file as it doesn't exists\")"
   ]
  },
  {
   "cell_type": "markdown",
   "id": "bd9f75c5-25c3-4fd5-a333-21bdd6a783e2",
   "metadata": {},
   "source": [
    "# 3. Serving and Inference"
   ]
  },
  {
   "cell_type": "markdown",
   "id": "27af4920-f92c-4f9f-ac1d-59b6392165ca",
   "metadata": {
    "tags": []
   },
   "source": [
    "### 3.1 Local mode\n",
    "- 내부적으로 Triton 서버가 구동시에 아래 URL 스크립트가 구동 됨.\n",
    "    - 여기에 맞는 필요한 환경 변수를 넣어 줌.\n",
    "    - https://raw.githubusercontent.com/triton-inference-server/server/main/docker/sagemaker/serve"
   ]
  },
  {
   "cell_type": "markdown",
   "id": "f379cdc3-b352-48e2-a7bd-e19f1aaa5757",
   "metadata": {},
   "source": [
    "#### 3.1.1 Depoly"
   ]
  },
  {
   "cell_type": "code",
   "execution_count": null,
   "id": "2098826f-f444-49d9-8a62-c60c28860b6a",
   "metadata": {
    "tags": []
   },
   "outputs": [],
   "source": [
    "import json\n",
    "import numpy as np\n",
    "from sagemaker.model import Model"
   ]
  },
  {
   "cell_type": "code",
   "execution_count": null,
   "id": "450763d6-d5a5-4301-b04d-7cdb7e525c18",
   "metadata": {
    "tags": []
   },
   "outputs": [],
   "source": [
    "ts = time.strftime(\"%Y-%m-%d-%H-%M-%S\", time.gmtime())\n",
    "\n",
    "# endpoint variables\n",
    "strSMModelName = f\"{strPrefix}-mdl-{ts}\" #sm_model_name\n",
    "strEndpointConfigName = f\"{strPrefix}-epc-{ts}\" # endpoint_config_name\n",
    "strEndpointName = f\"{strPrefix}-ep-{ts}\" # endpoint_name\n",
    "strModelDataUrl = f\"s3://{strBucketName}/{strPrefix}/\" #model_data_url"
   ]
  },
  {
   "cell_type": "code",
   "execution_count": null,
   "id": "a2957a88-a0f0-417c-9012-60001f6dac93",
   "metadata": {
    "tags": []
   },
   "outputs": [],
   "source": [
    "dicContainerEnvs = {\n",
    "                    \"SAGEMAKER_TRITON_LOG_VERBOSE\": \"3\",\n",
    "                    \"SAGEMAKER_TRITON_LOG_INFO\": \"1\",\n",
    "                    \"SAGEMAKER_TRITON_LOG_WARNING\" : \"1\",\n",
    "                    \"SAGEMAKER_TRITON_LOG_ERROR\" : \"1\"\n",
    "                 }\n",
    "\n",
    "localPytorchModel = Model(\n",
    "    model_data= strModelUriPt,\n",
    "    image_uri = strTritonImageUri,\n",
    "    role=strExecutionRole,\n",
    "    env = dicContainerEnvs\n",
    ")"
   ]
  },
  {
   "cell_type": "code",
   "execution_count": null,
   "id": "450a54d8-8b68-4312-8f18-9b627d757a91",
   "metadata": {
    "tags": []
   },
   "outputs": [],
   "source": [
    "localPredictor = localPytorchModel.deploy(\n",
    "    instance_type=strInstanceType,\n",
    "    initial_instance_count=1,\n",
    "    endpoint_name=strEndpointName,\n",
    "    wait=True,\n",
    "    log=False,\n",
    ")"
   ]
  },
  {
   "cell_type": "markdown",
   "id": "e6d1eb10-855f-48e9-9d3d-d0b6dce4cd4e",
   "metadata": {},
   "source": [
    "#### 3.1.2 Inference"
   ]
  },
  {
   "cell_type": "code",
   "execution_count": null,
   "id": "4e6a6487-fb12-45ce-87f7-0b367dd4c80d",
   "metadata": {
    "tags": []
   },
   "outputs": [],
   "source": [
    "def create_sample_payload():\n",
    "    # user\n",
    "    user_np = np.zeros((1,100)).astype(np.int32)\n",
    "    # item\n",
    "    item_np = np.random.randint(low=1, high=1000, size=(1,100)).astype(np.int32)\n",
    "\n",
    "    payload = {\n",
    "        \"inputs\": [\n",
    "            {\"name\": \"INPUT__0\", \"shape\": [1,100], \n",
    "             \"datatype\": \"INT32\", \"data\": user_np.tolist()},\n",
    "            {\"name\": \"INPUT__1\", \"shape\": [1,100], \n",
    "             \"datatype\": \"INT32\", \"data\": item_np.tolist()},\n",
    "        ]\n",
    "    }\n",
    "    \n",
    "    return payload\n",
    "\n",
    "payload = create_sample_payload()\n",
    "print(\"payload: \", payload)"
   ]
  },
  {
   "cell_type": "code",
   "execution_count": null,
   "id": "861a72ea-fb30-4f3a-9e42-2c427ad205da",
   "metadata": {
    "tags": []
   },
   "outputs": [],
   "source": [
    "def single_model_invoke_endpoint(client,endpoint_name, payload): \n",
    "    response = client.invoke_endpoint(\n",
    "        EndpointName=endpoint_name,\n",
    "        ContentType=\"application/octet-stream\", \n",
    "        Body=json.dumps(payload),\n",
    "    )\n",
    "\n",
    "    result = json.loads(response[\"Body\"].read().decode(\"utf8\"))\n",
    "    \n",
    "    return result\n",
    "\n",
    "runtime_client = sagemaker.local.LocalSagemakerRuntimeClient()    \n",
    "result = single_model_invoke_endpoint(runtime_client,strEndpointName, payload)\n",
    "print(\"result : \", result)"
   ]
  },
  {
   "cell_type": "markdown",
   "id": "73f094ec-cb98-4e95-b3a6-9f41760ebd32",
   "metadata": {
    "tags": []
   },
   "source": [
    "#### 3.1.3 Delete endpoint"
   ]
  },
  {
   "cell_type": "code",
   "execution_count": null,
   "id": "4ebc2f18-104c-4799-811d-88efc4346b6a",
   "metadata": {
    "tags": []
   },
   "outputs": [],
   "source": [
    "from src.inference_utils import delete_endpoint"
   ]
  },
  {
   "cell_type": "code",
   "execution_count": null,
   "id": "f324c538-6c24-4fcb-b7d6-c97626a1274f",
   "metadata": {
    "tags": []
   },
   "outputs": [],
   "source": [
    "client = sagemaker.local.LocalSagemakerClient()\n",
    "delete_endpoint(client, strEndpointName)"
   ]
  },
  {
   "cell_type": "markdown",
   "id": "2f5cbc05-d151-439c-a8fa-a943b342ddd4",
   "metadata": {},
   "source": [
    "### 3.2 Cloud mode"
   ]
  },
  {
   "cell_type": "markdown",
   "id": "49ed1b5e-16cd-4f2d-8e7d-6f9846fee967",
   "metadata": {},
   "source": [
    "#### 3.2.1 Depoly"
   ]
  },
  {
   "cell_type": "code",
   "execution_count": null,
   "id": "ab84f4ae-2864-4432-85a3-57509d5eafa9",
   "metadata": {
    "tags": []
   },
   "outputs": [],
   "source": [
    "dicContainer = {\n",
    "    \"Image\": strTritonImageUri,\n",
    "    \"ModelDataUrl\": strModelUriPt\n",
    "}"
   ]
  },
  {
   "cell_type": "code",
   "execution_count": null,
   "id": "e9fe0921-0bc3-4aa2-8e04-8f517d9d5e90",
   "metadata": {
    "tags": []
   },
   "outputs": [],
   "source": [
    "print(f'dicContainer: {dicContainer}')\n",
    "print(f'strSMModelName: {strSMModelName}')"
   ]
  },
  {
   "cell_type": "code",
   "execution_count": null,
   "id": "331f8344-b594-47d1-83dd-a95e4b5ce6a0",
   "metadata": {
    "tags": []
   },
   "outputs": [],
   "source": [
    "sm_client = boto3.client(service_name=\"sagemaker\")\n",
    "\n",
    "create_model_response = sm_client.create_model(\n",
    "    ModelName=strSMModelName,\n",
    "    ExecutionRoleArn=strExecutionRole,\n",
    "    PrimaryContainer=dicContainer\n",
    ")"
   ]
  },
  {
   "cell_type": "code",
   "execution_count": null,
   "id": "cf453be7-2cf7-48f7-918d-e3c368c5bf98",
   "metadata": {
    "tags": []
   },
   "outputs": [],
   "source": [
    "print(f'Model Arn: {create_model_response[\"ModelArn\"]}')"
   ]
  },
  {
   "cell_type": "code",
   "execution_count": null,
   "id": "cea0b09c-66c6-4977-9b2c-b22141fd91de",
   "metadata": {
    "tags": []
   },
   "outputs": [],
   "source": [
    "create_endpoint_config_response = sm_client.create_endpoint_config(\n",
    "    EndpointConfigName=strEndpointConfigName,\n",
    "    ProductionVariants=[\n",
    "        {\n",
    "            \"InstanceType\": strInstanceType,\n",
    "            \"InitialVariantWeight\": 1,\n",
    "            \"InitialInstanceCount\": 1,\n",
    "            \"ModelName\": strSMModelName,\n",
    "            \"VariantName\": \"AllTraffic\",\n",
    "        }\n",
    "    ],\n",
    ")"
   ]
  },
  {
   "cell_type": "code",
   "execution_count": null,
   "id": "6e4b3390-a77f-452c-8d5d-8a3b56e04c80",
   "metadata": {
    "tags": []
   },
   "outputs": [],
   "source": [
    "print(f'Endpoint Config Arn: {create_endpoint_config_response[\"EndpointConfigArn\"]}')"
   ]
  },
  {
   "cell_type": "code",
   "execution_count": null,
   "id": "49ed627d-9af0-4d33-ab0b-cea7d0b21836",
   "metadata": {
    "tags": []
   },
   "outputs": [],
   "source": [
    "create_endpoint_response = sm_client.create_endpoint(\n",
    "    EndpointName=strEndpointName,\n",
    "    EndpointConfigName=strEndpointConfigName\n",
    ")"
   ]
  },
  {
   "cell_type": "code",
   "execution_count": null,
   "id": "184c409f-2ffb-4c60-8ac9-a56c74a81c36",
   "metadata": {},
   "outputs": [],
   "source": [
    "print(f'Endpoint Arn: {create_endpoint_response[\"EndpointArn\"]}')"
   ]
  },
  {
   "cell_type": "code",
   "execution_count": null,
   "id": "5f90caf5-454e-4452-b91b-4f1dedf97d36",
   "metadata": {
    "tags": []
   },
   "outputs": [],
   "source": [
    "%%time \n",
    "\n",
    "resp = sm_client.describe_endpoint(EndpointName=strEndpointName)\n",
    "status = resp[\"EndpointStatus\"]\n",
    "print(\"Status: \" + status)\n",
    "\n",
    "while status == \"Creating\":\n",
    "    time.sleep(60)\n",
    "    resp = sm_client.describe_endpoint(EndpointName=strEndpointName)\n",
    "    status = resp[\"EndpointStatus\"]\n",
    "    print(\"Status: \" + status)\n",
    "\n",
    "print(\"Arn: \" + resp[\"EndpointArn\"])\n",
    "print(\"Status: \" + status)"
   ]
  },
  {
   "cell_type": "markdown",
   "id": "d7351b41-f4c1-465a-a965-b86ab91af8e2",
   "metadata": {},
   "source": [
    "#### 3.2.2 Inference"
   ]
  },
  {
   "cell_type": "code",
   "execution_count": null,
   "id": "c7ae7f7b-5b67-42cc-b29d-086cddf3b226",
   "metadata": {
    "tags": []
   },
   "outputs": [],
   "source": [
    "runtime_client = boto3.Session().client('sagemaker-runtime')\n",
    "single_model_invoke_endpoint(runtime_client,strEndpointName, payload)"
   ]
  },
  {
   "cell_type": "markdown",
   "id": "4d93b9fb-2951-485b-9eaa-ae430d5177bf",
   "metadata": {},
   "source": [
    "#### 3.2.3 Delete endpoint"
   ]
  },
  {
   "cell_type": "code",
   "execution_count": null,
   "id": "9aa8bfde-6d07-4056-927d-7ce26bfbfbf0",
   "metadata": {
    "tags": []
   },
   "outputs": [],
   "source": [
    "client = boto3.Session().client('sagemaker')\n",
    "delete_endpoint(client, strEndpointName)"
   ]
  },
  {
   "cell_type": "code",
   "execution_count": null,
   "id": "00fa4637-0059-45f5-aa93-495708486645",
   "metadata": {},
   "outputs": [],
   "source": []
  }
 ],
 "metadata": {
  "kernelspec": {
   "display_name": "conda_pytorch_p310",
   "language": "python",
   "name": "conda_pytorch_p310"
  },
  "language_info": {
   "codemirror_mode": {
    "name": "ipython",
    "version": 3
   },
   "file_extension": ".py",
   "mimetype": "text/x-python",
   "name": "python",
   "nbconvert_exporter": "python",
   "pygments_lexer": "ipython3",
   "version": "3.10.10"
  }
 },
 "nbformat": 4,
 "nbformat_minor": 5
}
